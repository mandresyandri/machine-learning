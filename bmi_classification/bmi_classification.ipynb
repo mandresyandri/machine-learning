{
 "cells": [
  {
   "cell_type": "code",
   "execution_count": 3,
   "metadata": {
    "collapsed": true,
    "ExecuteTime": {
     "end_time": "2023-08-14T17:37:06.485125Z",
     "start_time": "2023-08-14T17:37:03.960363Z"
    }
   },
   "outputs": [],
   "source": [
    "# import des modules\n",
    "import pandas as pd\n",
    "import matplotlib.pyplot as plt\n",
    "import seaborn as sns"
   ]
  },
  {
   "cell_type": "code",
   "execution_count": 27,
   "outputs": [],
   "source": [
    "# ouverture des jeux de données\n",
    "df = pd.read_csv(\"dataset/bmi_train.csv\")"
   ],
   "metadata": {
    "collapsed": false,
    "ExecuteTime": {
     "end_time": "2023-08-14T17:40:24.572751Z",
     "start_time": "2023-08-14T17:40:24.564740Z"
    }
   }
  },
  {
   "cell_type": "code",
   "execution_count": 5,
   "outputs": [
    {
     "name": "stdout",
     "output_type": "stream",
     "text": [
      "La dimension du jeux de données est de (400, 4), soit 4 colonnes et 400 lignes.\n"
     ]
    }
   ],
   "source": [
    "# exploration des données\n",
    "print(f\"La dimension du jeux de données est de {df.shape}, soit {df.shape[1]} colonnes et {df.shape[0]} lignes.\")"
   ],
   "metadata": {
    "collapsed": false,
    "ExecuteTime": {
     "end_time": "2023-08-14T17:37:08.928199Z",
     "start_time": "2023-08-14T17:37:08.918201Z"
    }
   }
  },
  {
   "cell_type": "code",
   "execution_count": 6,
   "outputs": [
    {
     "data": {
      "text/plain": "  Gender  Height  Weight  Index\n0   Male     161      89      4\n1   Male     179     127      4\n2   Male     172     139      5\n3   Male     153     104      5\n4   Male     165      68      2",
      "text/html": "<div>\n<style scoped>\n    .dataframe tbody tr th:only-of-type {\n        vertical-align: middle;\n    }\n\n    .dataframe tbody tr th {\n        vertical-align: top;\n    }\n\n    .dataframe thead th {\n        text-align: right;\n    }\n</style>\n<table border=\"1\" class=\"dataframe\">\n  <thead>\n    <tr style=\"text-align: right;\">\n      <th></th>\n      <th>Gender</th>\n      <th>Height</th>\n      <th>Weight</th>\n      <th>Index</th>\n    </tr>\n  </thead>\n  <tbody>\n    <tr>\n      <th>0</th>\n      <td>Male</td>\n      <td>161</td>\n      <td>89</td>\n      <td>4</td>\n    </tr>\n    <tr>\n      <th>1</th>\n      <td>Male</td>\n      <td>179</td>\n      <td>127</td>\n      <td>4</td>\n    </tr>\n    <tr>\n      <th>2</th>\n      <td>Male</td>\n      <td>172</td>\n      <td>139</td>\n      <td>5</td>\n    </tr>\n    <tr>\n      <th>3</th>\n      <td>Male</td>\n      <td>153</td>\n      <td>104</td>\n      <td>5</td>\n    </tr>\n    <tr>\n      <th>4</th>\n      <td>Male</td>\n      <td>165</td>\n      <td>68</td>\n      <td>2</td>\n    </tr>\n  </tbody>\n</table>\n</div>"
     },
     "execution_count": 6,
     "metadata": {},
     "output_type": "execute_result"
    }
   ],
   "source": [
    "df.head(5)"
   ],
   "metadata": {
    "collapsed": false,
    "ExecuteTime": {
     "end_time": "2023-08-14T17:37:09.456015Z",
     "start_time": "2023-08-14T17:37:09.381941Z"
    }
   }
  },
  {
   "cell_type": "code",
   "execution_count": 7,
   "outputs": [
    {
     "data": {
      "text/plain": "           Height      Weight       Index\ncount  400.000000  400.000000  400.000000\nmean   170.362500  106.060000    3.737500\nstd     16.574011   32.362242    1.370507\nmin    140.000000   50.000000    0.000000\n25%    156.000000   80.000000    3.000000\n50%    171.000000  106.500000    4.000000\n75%    184.000000  136.250000    5.000000\nmax    199.000000  160.000000    5.000000",
      "text/html": "<div>\n<style scoped>\n    .dataframe tbody tr th:only-of-type {\n        vertical-align: middle;\n    }\n\n    .dataframe tbody tr th {\n        vertical-align: top;\n    }\n\n    .dataframe thead th {\n        text-align: right;\n    }\n</style>\n<table border=\"1\" class=\"dataframe\">\n  <thead>\n    <tr style=\"text-align: right;\">\n      <th></th>\n      <th>Height</th>\n      <th>Weight</th>\n      <th>Index</th>\n    </tr>\n  </thead>\n  <tbody>\n    <tr>\n      <th>count</th>\n      <td>400.000000</td>\n      <td>400.000000</td>\n      <td>400.000000</td>\n    </tr>\n    <tr>\n      <th>mean</th>\n      <td>170.362500</td>\n      <td>106.060000</td>\n      <td>3.737500</td>\n    </tr>\n    <tr>\n      <th>std</th>\n      <td>16.574011</td>\n      <td>32.362242</td>\n      <td>1.370507</td>\n    </tr>\n    <tr>\n      <th>min</th>\n      <td>140.000000</td>\n      <td>50.000000</td>\n      <td>0.000000</td>\n    </tr>\n    <tr>\n      <th>25%</th>\n      <td>156.000000</td>\n      <td>80.000000</td>\n      <td>3.000000</td>\n    </tr>\n    <tr>\n      <th>50%</th>\n      <td>171.000000</td>\n      <td>106.500000</td>\n      <td>4.000000</td>\n    </tr>\n    <tr>\n      <th>75%</th>\n      <td>184.000000</td>\n      <td>136.250000</td>\n      <td>5.000000</td>\n    </tr>\n    <tr>\n      <th>max</th>\n      <td>199.000000</td>\n      <td>160.000000</td>\n      <td>5.000000</td>\n    </tr>\n  </tbody>\n</table>\n</div>"
     },
     "execution_count": 7,
     "metadata": {},
     "output_type": "execute_result"
    }
   ],
   "source": [
    "df.describe()"
   ],
   "metadata": {
    "collapsed": false,
    "ExecuteTime": {
     "end_time": "2023-08-14T17:37:09.902253Z",
     "start_time": "2023-08-14T17:37:09.892768Z"
    }
   }
  },
  {
   "cell_type": "code",
   "execution_count": 8,
   "outputs": [
    {
     "name": "stdout",
     "output_type": "stream",
     "text": [
      "<class 'pandas.core.frame.DataFrame'>\n",
      "RangeIndex: 400 entries, 0 to 399\n",
      "Data columns (total 4 columns):\n",
      " #   Column  Non-Null Count  Dtype \n",
      "---  ------  --------------  ----- \n",
      " 0   Gender  400 non-null    object\n",
      " 1   Height  400 non-null    int64 \n",
      " 2   Weight  400 non-null    int64 \n",
      " 3   Index   400 non-null    int64 \n",
      "dtypes: int64(3), object(1)\n",
      "memory usage: 12.6+ KB\n"
     ]
    }
   ],
   "source": [
    "df.info()"
   ],
   "metadata": {
    "collapsed": false,
    "ExecuteTime": {
     "end_time": "2023-08-14T17:37:10.375273Z",
     "start_time": "2023-08-14T17:37:10.371414Z"
    }
   }
  },
  {
   "cell_type": "code",
   "execution_count": 9,
   "outputs": [
    {
     "data": {
      "text/plain": "array(['Male', 'Female'], dtype=object)"
     },
     "execution_count": 9,
     "metadata": {},
     "output_type": "execute_result"
    }
   ],
   "source": [
    "# transformation genre (traitement des données catégorielles)\n",
    "df.Gender.unique()"
   ],
   "metadata": {
    "collapsed": false,
    "ExecuteTime": {
     "end_time": "2023-08-14T17:37:10.855767Z",
     "start_time": "2023-08-14T17:37:10.848919Z"
    }
   }
  },
  {
   "cell_type": "code",
   "execution_count": 10,
   "outputs": [
    {
     "data": {
      "text/plain": "   Gender  Height  Weight  Index\n0       0     161      89      4\n1       0     179     127      4\n2       0     172     139      5\n3       0     153     104      5\n4       0     165      68      2",
      "text/html": "<div>\n<style scoped>\n    .dataframe tbody tr th:only-of-type {\n        vertical-align: middle;\n    }\n\n    .dataframe tbody tr th {\n        vertical-align: top;\n    }\n\n    .dataframe thead th {\n        text-align: right;\n    }\n</style>\n<table border=\"1\" class=\"dataframe\">\n  <thead>\n    <tr style=\"text-align: right;\">\n      <th></th>\n      <th>Gender</th>\n      <th>Height</th>\n      <th>Weight</th>\n      <th>Index</th>\n    </tr>\n  </thead>\n  <tbody>\n    <tr>\n      <th>0</th>\n      <td>0</td>\n      <td>161</td>\n      <td>89</td>\n      <td>4</td>\n    </tr>\n    <tr>\n      <th>1</th>\n      <td>0</td>\n      <td>179</td>\n      <td>127</td>\n      <td>4</td>\n    </tr>\n    <tr>\n      <th>2</th>\n      <td>0</td>\n      <td>172</td>\n      <td>139</td>\n      <td>5</td>\n    </tr>\n    <tr>\n      <th>3</th>\n      <td>0</td>\n      <td>153</td>\n      <td>104</td>\n      <td>5</td>\n    </tr>\n    <tr>\n      <th>4</th>\n      <td>0</td>\n      <td>165</td>\n      <td>68</td>\n      <td>2</td>\n    </tr>\n  </tbody>\n</table>\n</div>"
     },
     "execution_count": 10,
     "metadata": {},
     "output_type": "execute_result"
    }
   ],
   "source": [
    "gender_bool = {\"Male\": 0, \"Female\": 1}\n",
    "df.Gender = df[\"Gender\"].map(gender_bool)\n",
    "df.head()"
   ],
   "metadata": {
    "collapsed": false,
    "ExecuteTime": {
     "end_time": "2023-08-14T17:37:11.307157Z",
     "start_time": "2023-08-14T17:37:11.297134Z"
    }
   }
  },
  {
   "cell_type": "code",
   "execution_count": 11,
   "outputs": [
    {
     "data": {
      "text/plain": "<Figure size 720x576 with 4 Axes>",
      "image/png": "[encoded data removed]"
     },
     "metadata": {
      "needs_background": "light"
     },
     "output_type": "display_data"
    }
   ],
   "source": [
    "df.hist(bins=10, figsize=(10, 8), color=\"purple\")\n",
    "plt.show()"
   ],
   "metadata": {
    "collapsed": false,
    "ExecuteTime": {
     "end_time": "2023-08-14T17:37:12.741314Z",
     "start_time": "2023-08-14T17:37:11.935498Z"
    }
   }
  },
  {
   "cell_type": "code",
   "execution_count": 12,
   "outputs": [
    {
     "data": {
      "text/plain": "<Axes: >"
     },
     "execution_count": 12,
     "metadata": {},
     "output_type": "execute_result"
    },
    {
     "data": {
      "text/plain": "<Figure size 432x288 with 2 Axes>",
      "image/png": "[encoded data removed]"
     },
     "metadata": {
      "needs_background": "light"
     },
     "output_type": "display_data"
    }
   ],
   "source": [
    "sns.heatmap(df.corr(), annot=True)"
   ],
   "metadata": {
    "collapsed": false,
    "ExecuteTime": {
     "end_time": "2023-08-14T17:37:12.943658Z",
     "start_time": "2023-08-14T17:37:12.743036Z"
    }
   }
  },
  {
   "cell_type": "code",
   "execution_count": 13,
   "outputs": [
    {
     "name": "stdout",
     "output_type": "stream",
     "text": [
      "Missing value dans la colonne Gender est de 0\n",
      "Missing value dans la colonne Height est de 0\n",
      "Missing value dans la colonne Weight est de 0\n",
      "Missing value dans la colonne Index est de 0\n"
     ]
    }
   ],
   "source": [
    "# Nettoyage des données manquantes\n",
    "for datas in df.columns:\n",
    "    print(f\"Missing value dans la colonne {datas} est de {df[datas].isna().sum()}\")"
   ],
   "metadata": {
    "collapsed": false,
    "ExecuteTime": {
     "end_time": "2023-08-14T17:37:13.108271Z",
     "start_time": "2023-08-14T17:37:13.103076Z"
    }
   }
  },
  {
   "cell_type": "code",
   "execution_count": 14,
   "outputs": [],
   "source": [
    "# collecte des features\n",
    "features = [\n",
    "    \"Gender\",\n",
    "    \"Height\",\n",
    "    \"Weight\",\n",
    "]"
   ],
   "metadata": {
    "collapsed": false,
    "ExecuteTime": {
     "end_time": "2023-08-14T17:37:13.850712Z",
     "start_time": "2023-08-14T17:37:13.844579Z"
    }
   }
  },
  {
   "cell_type": "code",
   "execution_count": 15,
   "outputs": [],
   "source": [
    "# paramétrages des features et target\n",
    "X = df[features]\n",
    "y = df[\"Index\"]"
   ],
   "metadata": {
    "collapsed": false,
    "ExecuteTime": {
     "end_time": "2023-08-14T17:37:14.311758Z",
     "start_time": "2023-08-14T17:37:14.308009Z"
    }
   }
  },
  {
   "cell_type": "code",
   "execution_count": 16,
   "outputs": [],
   "source": [
    "# import ML librairie\n",
    "from sklearn.tree import DecisionTreeClassifier\n",
    "from sklearn.model_selection import train_test_split"
   ],
   "metadata": {
    "collapsed": false,
    "ExecuteTime": {
     "end_time": "2023-08-14T17:37:15.922395Z",
     "start_time": "2023-08-14T17:37:14.681591Z"
    }
   }
  },
  {
   "cell_type": "code",
   "execution_count": 17,
   "outputs": [],
   "source": [
    "# split data\n",
    "x_train, x_test, y_train, y_test = train_test_split(X, y, random_state=1)"
   ],
   "metadata": {
    "collapsed": false,
    "ExecuteTime": {
     "end_time": "2023-08-14T17:37:15.930494Z",
     "start_time": "2023-08-14T17:37:15.924893Z"
    }
   }
  },
  {
   "cell_type": "code",
   "execution_count": 18,
   "outputs": [],
   "source": [
    "# create model and fit\n",
    "model = DecisionTreeClassifier()\n",
    "fit_model = model.fit(x_train, y_train)"
   ],
   "metadata": {
    "collapsed": false,
    "ExecuteTime": {
     "end_time": "2023-08-14T17:37:15.938731Z",
     "start_time": "2023-08-14T17:37:15.933564Z"
    }
   }
  },
  {
   "cell_type": "code",
   "execution_count": 19,
   "outputs": [],
   "source": [
    "predict = model.predict(x_test)"
   ],
   "metadata": {
    "collapsed": false,
    "ExecuteTime": {
     "end_time": "2023-08-14T17:37:16.115875Z",
     "start_time": "2023-08-14T17:37:16.112309Z"
    }
   }
  },
  {
   "cell_type": "code",
   "execution_count": 20,
   "outputs": [],
   "source": [
    "# Import des modules\n",
    "from sklearn.metrics import accuracy_score, precision_score, confusion_matrix"
   ],
   "metadata": {
    "collapsed": false,
    "ExecuteTime": {
     "end_time": "2023-08-14T17:37:16.492884Z",
     "start_time": "2023-08-14T17:37:16.486896Z"
    }
   }
  },
  {
   "cell_type": "code",
   "execution_count": 21,
   "outputs": [],
   "source": [
    "# Métriques du modèle\n",
    "precision = precision_score(y_test, predict, average='micro')\n",
    "accuracy = accuracy_score(y_test, predict)\n",
    "confusion = confusion_matrix(y_test, predict)"
   ],
   "metadata": {
    "collapsed": false,
    "ExecuteTime": {
     "end_time": "2023-08-14T17:37:16.833525Z",
     "start_time": "2023-08-14T17:37:16.829853Z"
    }
   }
  },
  {
   "cell_type": "code",
   "execution_count": 24,
   "outputs": [
    {
     "name": "stdout",
     "output_type": "stream",
     "text": [
      "Model accuracy : 80.0%\n",
      "Model precision : 80.0%\n",
      "Model confusion : [[ 1  0  1  0  0  0]\n",
      " [ 0  3  2  0  0  0]\n",
      " [ 0  0 10  2  0  0]\n",
      " [ 0  0  4 12  1  0]\n",
      " [ 0  0  2  0 18  2]\n",
      " [ 0  0  0  0  6 36]]\n"
     ]
    }
   ],
   "source": [
    "print(f\"Model accuracy : {accuracy*100}%\")\n",
    "print(f\"Model precision : {precision * 100}%\")\n",
    "print(f\"Model confusion : {confusion}\")"
   ],
   "metadata": {
    "collapsed": false,
    "ExecuteTime": {
     "end_time": "2023-08-14T17:37:43.789067Z",
     "start_time": "2023-08-14T17:37:43.783399Z"
    }
   }
  },
  {
   "cell_type": "code",
   "execution_count": 28,
   "outputs": [
    {
     "data": {
      "text/plain": "[Text(0.5, 1.0, 'Matrice de confusion')]"
     },
     "execution_count": 28,
     "metadata": {},
     "output_type": "execute_result"
    },
    {
     "data": {
      "text/plain": "<Figure size 432x288 with 2 Axes>",
      "image/png": "[encoded data removed]"
     },
     "metadata": {
      "needs_background": "light"
     },
     "output_type": "display_data"
    }
   ],
   "source": [
    "sns.heatmap(confusion, annot=True).set(title=\"Matrice de confusion\")"
   ],
   "metadata": {
    "collapsed": false,
    "ExecuteTime": {
     "end_time": "2023-08-14T17:40:52.090947Z",
     "start_time": "2023-08-14T17:40:51.897900Z"
    }
   }
  },
  {
   "cell_type": "code",
   "execution_count": 29,
   "outputs": [],
   "source": [
    "# Prédire les valeurs dans bmi_validation.csv"
   ],
   "metadata": {
    "collapsed": false,
    "ExecuteTime": {
     "end_time": "2023-08-14T17:41:10.676664Z",
     "start_time": "2023-08-14T17:41:10.666497Z"
    }
   }
  },
  {
   "cell_type": "code",
   "execution_count": 41,
   "outputs": [],
   "source": [
    "dft = pd.read_csv(\"dataset/bmi_validation.csv\")"
   ],
   "metadata": {
    "collapsed": false,
    "ExecuteTime": {
     "end_time": "2023-08-14T17:44:07.575472Z",
     "start_time": "2023-08-14T17:44:07.566139Z"
    }
   }
  },
  {
   "cell_type": "code",
   "execution_count": 42,
   "outputs": [
    {
     "data": {
      "text/plain": "Index(['Gender', 'Height', 'Weight'], dtype='object')"
     },
     "execution_count": 42,
     "metadata": {},
     "output_type": "execute_result"
    }
   ],
   "source": [
    "dft.columns"
   ],
   "metadata": {
    "collapsed": false,
    "ExecuteTime": {
     "end_time": "2023-08-14T17:44:08.059899Z",
     "start_time": "2023-08-14T17:44:08.050667Z"
    }
   }
  },
  {
   "cell_type": "code",
   "execution_count": 43,
   "outputs": [
    {
     "data": {
      "text/plain": "   Gender  Height  Weight\n0    Male     161     103\n1    Male     180      75\n2    Male     174      95\n3  Female     179     103\n4  Female     192     140",
      "text/html": "<div>\n<style scoped>\n    .dataframe tbody tr th:only-of-type {\n        vertical-align: middle;\n    }\n\n    .dataframe tbody tr th {\n        vertical-align: top;\n    }\n\n    .dataframe thead th {\n        text-align: right;\n    }\n</style>\n<table border=\"1\" class=\"dataframe\">\n  <thead>\n    <tr style=\"text-align: right;\">\n      <th></th>\n      <th>Gender</th>\n      <th>Height</th>\n      <th>Weight</th>\n    </tr>\n  </thead>\n  <tbody>\n    <tr>\n      <th>0</th>\n      <td>Male</td>\n      <td>161</td>\n      <td>103</td>\n    </tr>\n    <tr>\n      <th>1</th>\n      <td>Male</td>\n      <td>180</td>\n      <td>75</td>\n    </tr>\n    <tr>\n      <th>2</th>\n      <td>Male</td>\n      <td>174</td>\n      <td>95</td>\n    </tr>\n    <tr>\n      <th>3</th>\n      <td>Female</td>\n      <td>179</td>\n      <td>103</td>\n    </tr>\n    <tr>\n      <th>4</th>\n      <td>Female</td>\n      <td>192</td>\n      <td>140</td>\n    </tr>\n  </tbody>\n</table>\n</div>"
     },
     "execution_count": 43,
     "metadata": {},
     "output_type": "execute_result"
    }
   ],
   "source": [
    "dft.head()"
   ],
   "metadata": {
    "collapsed": false,
    "ExecuteTime": {
     "end_time": "2023-08-14T17:44:08.640126Z",
     "start_time": "2023-08-14T17:44:08.632032Z"
    }
   }
  },
  {
   "cell_type": "code",
   "execution_count": 44,
   "outputs": [],
   "source": [
    "Xd = dft"
   ],
   "metadata": {
    "collapsed": false,
    "ExecuteTime": {
     "end_time": "2023-08-14T17:44:10.693760Z",
     "start_time": "2023-08-14T17:44:10.684760Z"
    }
   }
  },
  {
   "cell_type": "code",
   "execution_count": 45,
   "outputs": [
    {
     "data": {
      "text/plain": "   Gender  Height  Weight\n0       0     161     103\n1       0     180      75\n2       0     174      95\n3       1     179     103\n4       1     192     140",
      "text/html": "<div>\n<style scoped>\n    .dataframe tbody tr th:only-of-type {\n        vertical-align: middle;\n    }\n\n    .dataframe tbody tr th {\n        vertical-align: top;\n    }\n\n    .dataframe thead th {\n        text-align: right;\n    }\n</style>\n<table border=\"1\" class=\"dataframe\">\n  <thead>\n    <tr style=\"text-align: right;\">\n      <th></th>\n      <th>Gender</th>\n      <th>Height</th>\n      <th>Weight</th>\n    </tr>\n  </thead>\n  <tbody>\n    <tr>\n      <th>0</th>\n      <td>0</td>\n      <td>161</td>\n      <td>103</td>\n    </tr>\n    <tr>\n      <th>1</th>\n      <td>0</td>\n      <td>180</td>\n      <td>75</td>\n    </tr>\n    <tr>\n      <th>2</th>\n      <td>0</td>\n      <td>174</td>\n      <td>95</td>\n    </tr>\n    <tr>\n      <th>3</th>\n      <td>1</td>\n      <td>179</td>\n      <td>103</td>\n    </tr>\n    <tr>\n      <th>4</th>\n      <td>1</td>\n      <td>192</td>\n      <td>140</td>\n    </tr>\n  </tbody>\n</table>\n</div>"
     },
     "execution_count": 45,
     "metadata": {},
     "output_type": "execute_result"
    }
   ],
   "source": [
    "gender_bool = {\"Male\": 0, \"Female\": 1}\n",
    "dft.Gender = dft[\"Gender\"].map(gender_bool)\n",
    "dft.head()"
   ],
   "metadata": {
    "collapsed": false,
    "ExecuteTime": {
     "end_time": "2023-08-14T17:44:11.471840Z",
     "start_time": "2023-08-14T17:44:11.467010Z"
    }
   }
  },
  {
   "cell_type": "code",
   "execution_count": 46,
   "outputs": [],
   "source": [
    "predict = model.predict(Xd)"
   ],
   "metadata": {
    "collapsed": false,
    "ExecuteTime": {
     "end_time": "2023-08-14T17:44:13.205048Z",
     "start_time": "2023-08-14T17:44:13.196682Z"
    }
   }
  },
  {
   "cell_type": "code",
   "execution_count": 48,
   "outputs": [],
   "source": [
    "dft[\"Index\"] = predict"
   ],
   "metadata": {
    "collapsed": false,
    "ExecuteTime": {
     "end_time": "2023-08-14T17:44:36.830908Z",
     "start_time": "2023-08-14T17:44:36.826880Z"
    }
   }
  },
  {
   "cell_type": "code",
   "execution_count": 50,
   "outputs": [
    {
     "data": {
      "text/plain": "    Gender  Height  Weight  Index\n0        0     161     103      5\n1        0     180      75      2\n2        0     174      95      3\n3        1     179     103      3\n4        1     192     140      4\n..     ...     ...     ...    ...\n95       0     162      58      2\n96       1     175     141      5\n97       1     197     154      4\n98       0     188      65      1\n99       1     153     107      5\n\n[100 rows x 4 columns]",
      "text/html": "<div>\n<style scoped>\n    .dataframe tbody tr th:only-of-type {\n        vertical-align: middle;\n    }\n\n    .dataframe tbody tr th {\n        vertical-align: top;\n    }\n\n    .dataframe thead th {\n        text-align: right;\n    }\n</style>\n<table border=\"1\" class=\"dataframe\">\n  <thead>\n    <tr style=\"text-align: right;\">\n      <th></th>\n      <th>Gender</th>\n      <th>Height</th>\n      <th>Weight</th>\n      <th>Index</th>\n    </tr>\n  </thead>\n  <tbody>\n    <tr>\n      <th>0</th>\n      <td>0</td>\n      <td>161</td>\n      <td>103</td>\n      <td>5</td>\n    </tr>\n    <tr>\n      <th>1</th>\n      <td>0</td>\n      <td>180</td>\n      <td>75</td>\n      <td>2</td>\n    </tr>\n    <tr>\n      <th>2</th>\n      <td>0</td>\n      <td>174</td>\n      <td>95</td>\n      <td>3</td>\n    </tr>\n    <tr>\n      <th>3</th>\n      <td>1</td>\n      <td>179</td>\n      <td>103</td>\n      <td>3</td>\n    </tr>\n    <tr>\n      <th>4</th>\n      <td>1</td>\n      <td>192</td>\n      <td>140</td>\n      <td>4</td>\n    </tr>\n    <tr>\n      <th>...</th>\n      <td>...</td>\n      <td>...</td>\n      <td>...</td>\n      <td>...</td>\n    </tr>\n    <tr>\n      <th>95</th>\n      <td>0</td>\n      <td>162</td>\n      <td>58</td>\n      <td>2</td>\n    </tr>\n    <tr>\n      <th>96</th>\n      <td>1</td>\n      <td>175</td>\n      <td>141</td>\n      <td>5</td>\n    </tr>\n    <tr>\n      <th>97</th>\n      <td>1</td>\n      <td>197</td>\n      <td>154</td>\n      <td>4</td>\n    </tr>\n    <tr>\n      <th>98</th>\n      <td>0</td>\n      <td>188</td>\n      <td>65</td>\n      <td>1</td>\n    </tr>\n    <tr>\n      <th>99</th>\n      <td>1</td>\n      <td>153</td>\n      <td>107</td>\n      <td>5</td>\n    </tr>\n  </tbody>\n</table>\n<p>100 rows × 4 columns</p>\n</div>"
     },
     "execution_count": 50,
     "metadata": {},
     "output_type": "execute_result"
    }
   ],
   "source": [
    "dft"
   ],
   "metadata": {
    "collapsed": false,
    "ExecuteTime": {
     "end_time": "2023-08-14T17:45:24.724454Z",
     "start_time": "2023-08-14T17:45:24.717065Z"
    }
   }
  },
  {
   "cell_type": "code",
   "execution_count": 53,
   "outputs": [],
   "source": [
    "# export du modèle\n",
    "dft.to_csv(\"dataset/bmi_validation_true.csv\", index=False)"
   ],
   "metadata": {
    "collapsed": false,
    "ExecuteTime": {
     "end_time": "2023-08-14T17:47:41.379365Z",
     "start_time": "2023-08-14T17:47:41.373592Z"
    }
   }
  }
 ],
 "metadata": {
  "kernelspec": {
   "display_name": "Python 3",
   "language": "python",
   "name": "python3"
  },
  "language_info": {
   "codemirror_mode": {
    "name": "ipython",
    "version": 2
   },
   "file_extension": ".py",
   "mimetype": "text/x-python",
   "name": "python",
   "nbconvert_exporter": "python",
   "pygments_lexer": "ipython2",
   "version": "2.7.6"
  }
 },
 "nbformat": 4,
 "nbformat_minor": 0
}
